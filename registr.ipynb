{
 "cells": [
  {
   "cell_type": "code",
   "execution_count": 3,
   "metadata": {},
   "outputs": [
    {
     "name": "stdout",
     "output_type": "stream",
     "text": [
      "Добро пожаловать в WalkRoute!\n"
     ]
    }
   ],
   "source": [
    "#Код сохраняющий данные пользователей при регистрации\n",
    "#Исправила баги, оптимизировала код\n",
    "print('Добро пожаловать в WalkRoute!')"
   ]
  }
 ],
 "metadata": {
  "kernelspec": {
   "display_name": "base",
   "language": "python",
   "name": "python3"
  },
  "language_info": {
   "codemirror_mode": {
    "name": "ipython",
    "version": 3
   },
   "file_extension": ".py",
   "mimetype": "text/x-python",
   "name": "python",
   "nbconvert_exporter": "python",
   "pygments_lexer": "ipython3",
   "version": "3.9.13"
  },
  "orig_nbformat": 4,
  "vscode": {
   "interpreter": {
    "hash": "3fd3929096d6e8dee2666eba7b189ceb54486adc7403d75122d2254dcd42b759"
   }
  }
 },
 "nbformat": 4,
 "nbformat_minor": 2
}
